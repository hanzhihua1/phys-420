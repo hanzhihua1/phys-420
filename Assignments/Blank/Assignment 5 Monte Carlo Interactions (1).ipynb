{
 "cells": [
  {
   "cell_type": "markdown",
   "metadata": {},
   "source": [
    "# Assignment 5: Monte Carlo Interactions (Physics 420)\n",
    "\n",
    "Write a simple Monte Carlo to calculate diffusion of a single argon atom in argon gas, taking the origin as the position of the atom at time t=0.  Assume the gas is at standard temperature and pressure (ie.  one mole is 22.7 liters at 100 kPa and 273 K).  Throw the energy of gas molecules according to the Maxwell Boltzmann distribution(below).  The mean free path for argon is 6.2e-6 cm at 273 K.  Treat the atoms as \"hard spheres\" with radius 3.67e-8 cm.  Calculate the collisions in the center of mass. For hard spheres the angle of incidence=angle of reflection, where the angle is measured between the velocity and the line from the center of the sphere to the point of impact.   \n",
    "\n",
    "Calculate:\n",
    "1.  The number of collisions/second.  (Simulate a million collisions and find the time to calculate this).  \n",
    "2.  Plot the distance from the origin the atom travels as a function of time.\n",
    "3.  The energy distribution of the particle as it bounces. \n",
    "4.  Redo the calculation for as many particles and as long a time as is practical on your computer.  (Limit your calculation times to a few hours).  \n",
    "\n",
    "From Wikipedia, we find Maxwell Boltmann distribution is defined as:\n",
    "Assuming the system of interest contains a large number of particles, the fraction of the particles within an infinitesimal element of three-dimensional velocity space, ${\\displaystyle d^{3}v},$ centered on a velocity vector of magnitude ${\\displaystyle v}$, is ${\\displaystyle f(v)d^{3}v}$, in which\n",
    "\n",
    "$${\\displaystyle f(v)~\\mathrm {d} ^{3}v=\\left({\\frac {m}{2\\pi kT}}\\right)^{3/2}\\,e^{-{\\frac {mv^{2}}{2kT}}}~\\mathrm {d} ^{3}v,}$$\n",
    "where ${\\displaystyle m} $ is the particle mass and ${\\displaystyle kT}$ is the product of Boltzmann's constant and thermodynamic temperature.\n"
   ]
  },
  {
   "cell_type": "code",
   "execution_count": 2,
   "metadata": {},
   "outputs": [
    {
     "data": {
      "text/plain": [
       "3359375000.000001"
      ]
     },
     "execution_count": 2,
     "metadata": {},
     "output_type": "execute_result"
    }
   ],
   "source": [
    "6.02e23/22.4e-3*5e-6**3\n"
   ]
  },
  {
   "cell_type": "code",
   "execution_count": null,
   "metadata": {},
   "outputs": [],
   "source": []
  }
 ],
 "metadata": {
  "kernelspec": {
   "display_name": "Python 3",
   "language": "python",
   "name": "python3"
  },
  "language_info": {
   "codemirror_mode": {
    "name": "ipython",
    "version": 3
   },
   "file_extension": ".py",
   "mimetype": "text/x-python",
   "name": "python",
   "nbconvert_exporter": "python",
   "pygments_lexer": "ipython3",
   "version": "3.6.7"
  }
 },
 "nbformat": 4,
 "nbformat_minor": 4
}
