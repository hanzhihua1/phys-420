{
 "cells": [
  {
   "cell_type": "markdown",
   "metadata": {},
   "source": [
    "# Hydrogen Atom Radial Wavefunctions\n",
    "## Ordinary differential eigenvalue problem\n",
    "\n",
    "\n",
    "Eigenvalue problems are boundary value problems that only have solutions for particular values of a parameter.  In quantum mechanics these parameters are the quantized variables- like the energy or angular momentum.  \n",
    "\n",
    "The hydrogen atom is a standard problem in quantum mechanics. You\n",
    "basically solve the Schroedinger equation for a 1/r central potential.\n",
    "We won't go through the separation of variables, but you can separate\n",
    "variables and end up with a differential equation \n",
    "$$\n",
    "\\left(\\frac{d^{2}}{dr^{2}}+\\frac{2}{r}\\frac{d}{dr}\\right)R(r)+\\frac{2\\mu}{\\hbar^{2}}\\left(E+\\frac{Ze^{2}}{r}-\\frac{l(l+1)\\hbar^{2}}{2\\mu r^{2}}\\right)R(r)=0\n",
    "$$\n",
    "where $R$ is the radial wavefunction, $r$ the radius, $\\mu$ the reduced\n",
    "mass, $Ze$ the charge of the nucleus, $e$ the charge of the electron\n",
    "and $l$ the angular momentum quantum number.\n",
    "\n",
    "The first step is to define a new independent variable $\\rho$ and\n",
    "a constant $\\lambda$ :\n",
    "$$\n",
    "\\begin{array}{cc}\n",
    "\\rho=\\sqrt{\\frac{-8\\mu E}{\\hbar^{2}}}r & \\lambda=\\frac{Ze^{2}}{\\hbar}\\sqrt{\\frac{-\\mu}{2E}}\\end{array};\n",
    "$$ \n",
    "\n",
    "so the equation becomes:\n",
    "\n",
    "$$\n",
    "\\frac{d^{2}R}{d\\rho^{2}}+\\frac{2}{\\rho}\\frac{dR}{d\\rho}-\\frac{l(l+1)}{\\rho^{2}}R+\\left(\\frac{\\lambda}{\\rho}-\\frac{1}{4}\\right)R=0\n",
    "$$\n",
    "\n",
    "We can find and plot the wave function using odeint, if we knew $\\lambda$ and\n",
    "$dR/d\\rho$ at some point. This is an *eigenvalue* problem-\n",
    "there only exist (finite) solutions for particular values of $\\lambda$.\n",
    "As you probably learned in quantum mechanics, the eigenvalues are\n",
    "$\\lambda=1,2,3,$... \n",
    "\n"
   ]
  },
  {
   "cell_type": "markdown",
   "metadata": {},
   "source": [
    "\n",
    "1. First consider $\\lambda=1, l=0.$ The boundary conditions that you want\n",
    "are that $R=0$ at infinity, and R is finite everywhere. These boundary\n",
    "conditions are a little tricky to apply numerically- what will end\n",
    "up happening is that R will diverge due to numerical instabilities\n",
    "at some point. Start by picking a very large $\\rho-$say about 20\n",
    "and putting in an arbitrary value for R, and $dR/d\\rho\\sim-R/2$ and\n",
    "integrating in towards 0. Explore what happens to the solution if\n",
    "you make $\\lambda$ slightly bigger or smaller than one. For each value\n",
    "of $\\lambda$ explore what happens as you vary $dR/d\\rho$. You probably\n",
    "want to use a logarithmic scale for $\\rho-$ say going from 20 to 1e-9.\n",
    "You should be able to find a set of initial conditions/eigenvalues\n",
    "where the wave function stays relatively constant down to $\\rho\\sim$ 1e-8.\n",
    "Look up the wave functions and overlay the analytical result. (Note\n",
    "that we are free to scale the amplitude of R by a constant, \n",
    "so we can always normalize the wave function later. For now, don't\n",
    "worry about any overall scale factor. )"
   ]
  },
  {
   "cell_type": "code",
   "execution_count": null,
   "metadata": {
    "collapsed": true
   },
   "outputs": [],
   "source": []
  },
  {
   "cell_type": "markdown",
   "metadata": {},
   "source": [
    "2. Plot similar solutions for other values of $\\lambda$ and $l$."
   ]
  },
  {
   "cell_type": "code",
   "execution_count": null,
   "metadata": {
    "collapsed": true
   },
   "outputs": [],
   "source": []
  },
  {
   "cell_type": "code",
   "execution_count": null,
   "metadata": {
    "collapsed": true
   },
   "outputs": [],
   "source": []
  },
  {
   "cell_type": "markdown",
   "metadata": {},
   "source": [
    "3. The physical potential isn't $1/r$ inside the nucleus. Instead, we\n",
    "should consider the nucleus as a sphere of uniform charge density-\n",
    "so the potential is 0 at $r=0$, and is proportional to $r$ until we get\n",
    "to the outside of the nucleus, at $r=1.2\\times 10^{-15}$ m. Change the potential\n",
    "and compare the new eigenvalues and wavefunctions to the old ones.\n",
    "For this case there are no analytic solutions."
   ]
  },
  {
   "cell_type": "code",
   "execution_count": null,
   "metadata": {
    "collapsed": true
   },
   "outputs": [],
   "source": []
  }
 ],
 "metadata": {
  "kernelspec": {
   "display_name": "Python 3",
   "language": "python",
   "name": "python3"
  },
  "language_info": {
   "codemirror_mode": {
    "name": "ipython",
    "version": 3
   },
   "file_extension": ".py",
   "mimetype": "text/x-python",
   "name": "python",
   "nbconvert_exporter": "python",
   "pygments_lexer": "ipython3",
   "version": "3.7.4"
  }
 },
 "nbformat": 4,
 "nbformat_minor": 2
}
