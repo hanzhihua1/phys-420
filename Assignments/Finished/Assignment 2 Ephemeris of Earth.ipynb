{
 "cells": [
  {
   "cell_type": "markdown",
   "metadata": {},
   "source": [
    "# Assignment 2:  Ephemeris of Earth\n",
    "\n",
    "Numerically integrate the Earth’s orbit around the sun. Use the initial conditions from\n",
    "https://ssd.jpl.nasa.gov/horizons.cgi#top- with ephemeris type “vectors”, target body “earth”,\n",
    "and coordinate origin sun. \n",
    "\n",
    "Explicitly define your code verification variables; calculate them as\n",
    "well, and try to integrate for a million years (I think this is feasible both with computing time and\n",
    "with precision- but if it is not go as long as you can with the computing power you have\n",
    "available). Plot the eccentricity of the orbit and the time of perihelion and aphelion over that\n",
    "period.\n",
    "\n",
    "In developing your model and doing your calculations, it is useful to do everything in terms of vectors (and use built in functions for vector operations instead of dealing with individual components).\n"
   ]
  },
  {
   "cell_type": "code",
   "execution_count": null,
   "metadata": {},
   "outputs": [],
   "source": []
  },
  {
   "cell_type": "markdown",
   "metadata": {},
   "source": [
    "Calculate and plot the solar-energy fluxes: a) for the entire earth and b) for the northern\n",
    "hemisphere over the period you are able to integrate. (Ignore reflections, clouds, etc.). \n",
    "\n",
    "Don't do this for every year- but make a reasonable sample (say every N years), where N is picked so that there are a few plots covering the interesting regions.\n"
   ]
  },
  {
   "cell_type": "code",
   "execution_count": null,
   "metadata": {},
   "outputs": [],
   "source": []
  },
  {
   "cell_type": "markdown",
   "metadata": {},
   "source": [
    "Now add Jupiter and calculate the three body system. Compare the Earth’s orbit and the solar\n",
    "fluxes to those you would get without Jupiter present.\n"
   ]
  },
  {
   "cell_type": "code",
   "execution_count": null,
   "metadata": {},
   "outputs": [],
   "source": []
  }
 ],
 "metadata": {
  "kernelspec": {
   "display_name": "Python 3",
   "language": "python",
   "name": "python3"
  },
  "language_info": {
   "codemirror_mode": {
    "name": "ipython",
    "version": 3
   },
   "file_extension": ".py",
   "mimetype": "text/x-python",
   "name": "python",
   "nbconvert_exporter": "python",
   "pygments_lexer": "ipython3",
   "version": "3.7.4"
  }
 },
 "nbformat": 4,
 "nbformat_minor": 2
}
