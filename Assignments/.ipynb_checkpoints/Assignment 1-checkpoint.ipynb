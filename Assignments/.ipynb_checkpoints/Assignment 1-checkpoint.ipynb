{
 "cells": [
  {
   "cell_type": "markdown",
   "metadata": {},
   "source": [
    "# Assignment 1:  Review of Python, functions, plotting, numerical derivatives\n",
    "\n",
    "Write and run python scripts that do the followin.  Upload the notebook file to the eclass page."
   ]
  },
  {
   "cell_type": "markdown",
   "metadata": {},
   "source": [
    "1.  Write a script that calculates and plots sines and cosines for 100 points between 0 and 2$\\pi$"
   ]
  },
  {
   "cell_type": "code",
   "execution_count": null,
   "metadata": {},
   "outputs": [],
   "source": []
  },
  {
   "cell_type": "markdown",
   "metadata": {},
   "source": [
    "2.  Calculate and plot the numerical derivative of the function:\n",
    "$$f(x)=x^2+2\\sin x$$\n",
    "over the same interval and for 100 points using the finite difference equation:$$f'(x)\\approx\\frac{f(x+h)-f(x)}{h}$$.\n",
    "\n",
    "Calculate the derivative using h=0.1, 0.00001,1e-9, and 1e-13.\n",
    "\n",
    "For each value of h, plot the difference between your numerical derivative and the analytical derivative:$$\\delta(x)= f'(x)-2x-2\\cos x.$$  Also calculate the rms deviation for your 100 points:$$\\rm{RMS}=\\frac{1}{100}\\sum(f'(x)-2x-2\\cos x)^2$$\n"
   ]
  },
  {
   "cell_type": "code",
   "execution_count": null,
   "metadata": {},
   "outputs": [],
   "source": []
  },
  {
   "cell_type": "markdown",
   "metadata": {},
   "source": [
    "3.  Repeat (2), but now with the symmetric derivative:  $$f'(x)\\approx\\frac{f(x+h)-f(x-h)}{2h}.$$"
   ]
  },
  {
   "cell_type": "code",
   "execution_count": null,
   "metadata": {},
   "outputs": [],
   "source": []
  },
  {
   "cell_type": "markdown",
   "metadata": {},
   "source": [
    "4.  One way to lose accuracy in calculating derivatives is that, because the way numbers in the computer are represented $$(x+h)-(x-h) \\neq 2h$$- and so the denominator in the derivative calculation is not actually the difference between the values at which the function is calculated.  We can get around this by using *exactly representable numbers.*  This works by defining $x_1=x-h, x_2=x+h$ and then calculating $$f'(x)\\approx\\frac{f(x_2)-f(x_1)}{x_2-x_1}.$$  This works because $x_1$ and $x_2$ exactly represent some numbers- and so we calculate the exact difference for those numbers.\n",
    "\n",
    "Repeat (3) using this technique."
   ]
  },
  {
   "cell_type": "code",
   "execution_count": null,
   "metadata": {},
   "outputs": [],
   "source": []
  },
  {
   "cell_type": "markdown",
   "metadata": {},
   "source": [
    "5.  Typically, the precision of physics measurements is a bigger effect than numerical approximation in representing quantities.  We can quantify this, at least for statistical uncertainties, using a random number generator.  Suppose we have data from measurements of a sine wave with noise.  We model this with a function $$d(t)=\\sin(t)+a_n R,$$ where $R$ is a random number drawn from a gaussian distribution with $\\sigma=1.0$ and $a_n$ is the size of the noise.  (with numpy you can generate such random numbers with numpy.random.randn())\n",
    "\n",
    "Write a function that calculates d(t), with $a_n=0.05$.  Using the symmetric derivative, plot the RMS deviation between the numerical and analytic derivative: $d'(t)-cos(t)$ for 1000 points between 0 and $\\pi$, as a function of $h$. \n",
    "\n",
    "Discuss the shape of this curve.  Is there an optimal step size for calculating this derivative? \n"
   ]
  },
  {
   "cell_type": "code",
   "execution_count": null,
   "metadata": {},
   "outputs": [],
   "source": []
  }
 ],
 "metadata": {
  "kernelspec": {
   "display_name": "Python 3",
   "language": "python",
   "name": "python3"
  },
  "language_info": {
   "codemirror_mode": {
    "name": "ipython",
    "version": 3
   },
   "file_extension": ".py",
   "mimetype": "text/x-python",
   "name": "python",
   "nbconvert_exporter": "python",
   "pygments_lexer": "ipython3",
   "version": "3.7.0"
  }
 },
 "nbformat": 4,
 "nbformat_minor": 2
}
